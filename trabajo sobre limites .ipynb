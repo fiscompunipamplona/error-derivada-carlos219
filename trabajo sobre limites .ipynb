{
 "cells": [
  {
   "cell_type": "code",
   "execution_count": 2,
   "metadata": {},
   "outputs": [
    {
     "name": "stdout",
     "output_type": "stream",
     "text": [
      "valor analitico es..: 1\n",
      "valor obtenido para  0.01  es:.. 1.010000000000001\n",
      "error porcentual obtenido es:... 1.0000000000000897\n"
     ]
    }
   ],
   "source": [
    "from numpy import*\n",
    "from pylab import*\n",
    "from math import*\n",
    "d=1e-2\n",
    "x=1\n",
    "anali=x-1+x\n",
    "print(\"valor analitico es..:\",anali)\n",
    "dev=(((x+d)*(x+d-1))-(x*(x-1)))/d\n",
    "print(\"valor obtenido para \",d,\" es:..\",dev)\n",
    "print(\"error porcentual obtenido es:...\",(abs(anali-dev)*100))"
   ]
  },
  {
   "cell_type": "code",
   "execution_count": 3,
   "metadata": {},
   "outputs": [
    {
     "name": "stdout",
     "output_type": "stream",
     "text": [
      "valor analitico es..: 1\n",
      "valor obtenido para  0.0001  es:.. 1.0000999999998899\n",
      "error porcentual obtenido es:... 0.009999999988985486\n"
     ]
    }
   ],
   "source": [
    "from numpy import*\n",
    "from pylab import*\n",
    "from math import*\n",
    "d=1e-4\n",
    "x=1\n",
    "anali=x-1+x\n",
    "print(\"valor analitico es..:\",anali)\n",
    "dev=(((x+d)*(x+d-1))-(x*(x-1)))/d\n",
    "print(\"valor obtenido para \",d,\" es:..\",dev)\n",
    "print(\"error porcentual obtenido es:...\",(abs(anali-dev)*100))"
   ]
  },
  {
   "cell_type": "code",
   "execution_count": 4,
   "metadata": {},
   "outputs": [
    {
     "name": "stdout",
     "output_type": "stream",
     "text": [
      "valor analitico es..: 1\n",
      "valor obtenido para  1e-06  es:.. 1.0000009999177333\n",
      "error porcentual obtenido es:... 9.99917733279787e-05\n"
     ]
    }
   ],
   "source": [
    "from numpy import*\n",
    "from pylab import*\n",
    "from math import*\n",
    "d=1e-6\n",
    "x=1\n",
    "anali=x-1+x\n",
    "print(\"valor analitico es..:\",anali)\n",
    "dev=(((x+d)*(x+d-1))-(x*(x-1)))/d\n",
    "print(\"valor obtenido para \",d,\" es:..\",dev)\n",
    "print(\"error porcentual obtenido es:...\",(abs(anali-dev)*100))"
   ]
  },
  {
   "cell_type": "code",
   "execution_count": 5,
   "metadata": {},
   "outputs": [
    {
     "name": "stdout",
     "output_type": "stream",
     "text": [
      "valor analitico es..: 1\n",
      "valor obtenido para  1e-08  es:.. 1.0000000039225287\n",
      "error porcentual obtenido es:... 3.9225287462585356e-07\n"
     ]
    }
   ],
   "source": [
    "from numpy import*\n",
    "from pylab import*\n",
    "from math import*\n",
    "d=1e-8\n",
    "x=1\n",
    "anali=x-1+x\n",
    "print(\"valor analitico es..:\",anali)\n",
    "dev=(((x+d)*(x+d-1))-(x*(x-1)))/d\n",
    "print(\"valor obtenido para \",d,\" es:..\",dev)\n",
    "print(\"error porcentual obtenido es:...\",(abs(anali-dev)*100))"
   ]
  },
  {
   "cell_type": "code",
   "execution_count": 6,
   "metadata": {},
   "outputs": [
    {
     "name": "stdout",
     "output_type": "stream",
     "text": [
      "valor analitico es..: 1\n",
      "valor obtenido para  1e-10  es:.. 1.000000082840371\n",
      "error porcentual obtenido es:... 8.284037100736441e-06\n"
     ]
    }
   ],
   "source": [
    "from numpy import*\n",
    "from pylab import*\n",
    "from math import*\n",
    "d=1e-10\n",
    "x=1\n",
    "anali=x-1+x\n",
    "print(\"valor analitico es..:\",anali)\n",
    "dev=(((x+d)*(x+d-1))-(x*(x-1)))/d\n",
    "print(\"valor obtenido para \",d,\" es:..\",dev)\n",
    "print(\"error porcentual obtenido es:...\",(abs(anali-dev)*100))"
   ]
  },
  {
   "cell_type": "code",
   "execution_count": 7,
   "metadata": {},
   "outputs": [
    {
     "name": "stdout",
     "output_type": "stream",
     "text": [
      "valor analitico es..: 1\n",
      "valor obtenido para  1e-12  es:.. 1.0000889005833413\n",
      "error porcentual obtenido es:... 0.008890058334132256\n"
     ]
    }
   ],
   "source": [
    "from numpy import*\n",
    "from pylab import*\n",
    "from math import*\n",
    "d=1e-12\n",
    "x=1\n",
    "anali=x-1+x\n",
    "print(\"valor analitico es..:\",anali)\n",
    "dev=(((x+d)*(x+d-1))-(x*(x-1)))/d\n",
    "print(\"valor obtenido para \",d,\" es:..\",dev)\n",
    "print(\"error porcentual obtenido es:...\",(abs(anali-dev)*100))"
   ]
  },
  {
   "cell_type": "code",
   "execution_count": 8,
   "metadata": {},
   "outputs": [
    {
     "name": "stdout",
     "output_type": "stream",
     "text": [
      "valor analitico es..: 1\n",
      "valor obtenido para  1e-14  es:.. 0.9992007221626509\n",
      "error porcentual obtenido es:... 0.07992778373491216\n"
     ]
    }
   ],
   "source": [
    "from numpy import*\n",
    "from pylab import*\n",
    "from math import*\n",
    "d=1e-14\n",
    "x=1\n",
    "anali=x-1+x\n",
    "print(\"valor analitico es..:\",anali)\n",
    "dev=(((x+d)*(x+d-1))-(x*(x-1)))/d\n",
    "print(\"valor obtenido para \",d,\" es:..\",dev)\n",
    "print(\"error porcentual obtenido es:...\",(abs(anali-dev)*100))"
   ]
  },
  {
   "cell_type": "code",
   "execution_count": null,
   "metadata": {},
   "outputs": [],
   "source": []
  }
 ],
 "metadata": {
  "kernelspec": {
   "display_name": "Python 3",
   "language": "python",
   "name": "python3"
  },
  "language_info": {
   "codemirror_mode": {
    "name": "ipython",
    "version": 3
   },
   "file_extension": ".py",
   "mimetype": "text/x-python",
   "name": "python",
   "nbconvert_exporter": "python",
   "pygments_lexer": "ipython3",
   "version": "3.6.7"
  }
 },
 "nbformat": 4,
 "nbformat_minor": 2
}
